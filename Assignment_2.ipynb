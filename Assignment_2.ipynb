{
  "nbformat": 4,
  "nbformat_minor": 0,
  "metadata": {
    "colab": {
      "provenance": []
    },
    "kernelspec": {
      "name": "python3",
      "display_name": "Python 3"
    },
    "language_info": {
      "name": "python"
    }
  },
  "cells": [
    {
      "cell_type": "markdown",
      "source": [
        "#Theory Questions\n",
        "\n",
        "1.  What are data structures, and why are they important?\n",
        "    >Data structures are ways to organize and store data in a computer so that it can be used efficiently. They are important because they allow us to manage and manipulate data effectively for various computational tasks.\n"
      ],
      "metadata": {
        "id": "MdVP00U7h9t2"
      }
    },
    {
      "cell_type": "markdown",
      "source": [
        "\n",
        "2.  Explain the difference between mutable and immutable data types with examples?\n",
        "\n",
        "  >**Mutable data types** can be changed after they are created, while immutable data types cannot. For Examples:-\n",
        "    - List\n",
        "```\n",
        "my_list = [1, 2, 3]\n",
        "my_list.append(4) # my_list is now [1, 2, 3, 4]\n",
        "```\n",
        "    - Dictionaries\n",
        "```\n",
        "my_dict = {'a': 1, 'b': 2}\n",
        "my_dict['c'] = 3 # my_dict is now {'a': 1, 'b': 2, 'c': 3}\n",
        "```\n",
        "    - Sets\n",
        "```\n",
        "my_set = {1, 2, 3}\n",
        "my_set.add(4) # my_set is now {1, 2, 3, 4}\n",
        "```\n",
        "\n",
        "  > **Immutable**\n",
        "    - Strings:  we cannot change individual characters in a string after it's created. If we want to modify a string, we have to create a new one.\n",
        "\n",
        "        my_string = \"hello\"\n",
        "        # my_string[0] = \"H\" # This would raise an error\n",
        "        new_string = my_string.replace(\"h\", \"H\") # new_string is now \"Hello\"\n",
        "        "
      ],
      "metadata": {
        "id": "WNLXTiNuUd1j"
      }
    },
    {
      "cell_type": "markdown",
      "source": [
        "3. What are the main differences between lists and tuples in Python ?\n",
        "  > The difference in *lists* and *tuples* are:-\n",
        "  - Mutability: *Lists* are mutable, *tuples* are immutable. This is the most significant difference.\n",
        "  -Syntax: *lists* are defined using square brackets `[]`, while *Tuples* are defined using parentheses`()`.\n",
        "  -Performance: *tuples* are generally faster than *lists* for iteration and accessing elements because of their immutable nature.\n",
        "  -Use cases: *Lists* are typically used for collections of items where the order matters and the items can change. *tuples* are often used for heterogeneous collections of items where the order matters and the items should not change, such as coordinates or database records.\n",
        "\n"
      ],
      "metadata": {
        "id": "sxpA3P9OiBgu"
      }
    },
    {
      "cell_type": "markdown",
      "metadata": {
        "id": "58eed94e"
      },
      "source": [
        "4. Describe how dictionaries store data.\n",
        "\n",
        "  > - Dictionaries in Python store data as key-value pairs. Each key is unique and is used to access its associated value.\n",
        "  - Dictionaries are implemented using hash tables, which allow for efficient lookups, insertions, and deletions.\n",
        "  - When we add a key-value pair to a dictionary, Python calculates a hash value for the key and uses it to determine where to store the pair in memory.\n",
        "  - When we access a value using a key, Python calculates the hash value again and uses it to quickly find the corresponding value."
      ]
    },
    {
      "cell_type": "markdown",
      "metadata": {
        "id": "18a72412"
      },
      "source": [
        "5. Why might we use a set instead of a list in Python?\n",
        "\n",
        "  > We use a set instead of a list in Python when:\n",
        "  - **Uniqueness is required**: Sets automatically enforce uniqueness. If we add duplicate elements to a set, they are automatically discarded. This is useful when we want to work with a collection of distinct items.\n",
        "  *   **Order does not matter**: Sets are unordered collections. If the order of the elements is not important for our task, sets can be a good choice. Lists maintain the order of elements, which adds overhead.\n",
        "  *   **Set operations are needed**: Sets provide built-in methods for set operations like union (`|`), intersection (`&`), difference (`-`), and symmetric difference (`^`). These operations are highly optimized for sets.\n",
        "  *   **Removing duplicates**: If we have a list with duplicate elements and we want to obtain a collection of only the unique elements, converting the list to a set is a quick and efficient way to achieve this."
      ]
    },
    {
      "cell_type": "markdown",
      "metadata": {
        "id": "ea4c6e5d"
      },
      "source": [
        "6. What is a string in Python, and how is it different from a list ?\n",
        "\n",
        "> A **string** in Python is an ordered sequence of characters. It is an immutable data type, meaning that once a string is created, its individual characters cannot be changed. Strings are used to represent text data.\n",
        "\n",
        "> A **list** in Python, on the other hand, is an ordered collection of items. Lists are mutable, which means you can change, add, or remove elements after the list is created. Lists can contain items of different data types (integers, strings, other lists, etc.).\n",
        "\n",
        ">Here are the key differences:\n",
        "*   **Mutability**: Strings are immutable, while lists are mutable.\n",
        "*   **Data Type of Elements**: Strings contain only characters, while lists can contain items of any data type.\n",
        "*   **Syntax**: Strings are enclosed in quotes (single, double, or triple), while lists are enclosed in square brackets `[]`.\n",
        "*   **Purpose**: Strings are used for representing text, while lists are used for ordered collections of various data types."
      ]
    },
    {
      "cell_type": "markdown",
      "metadata": {
        "id": "a388c0d6"
      },
      "source": [
        "7. How do tuples ensure data integrity in Python ?\n",
        "\n",
        "> Tuples ensure data integrity in Python primarily through their **immutability**. This is particularly useful in situations where you need to store a collection of related data that should not be modified, such as:\n",
        "*   **Returning multiple values from a function**: When a function returns a tuple, you can be sure that the returned values won't be accidentally altered later in the code.\n",
        "*   **Using data as dictionary keys**: Because dictionary keys must be immutable, tuples can be used as keys, ensuring that the key remains consistent and can be reliably used to access values.\n",
        "*   **Storing fixed collections of data**: For data that represents a fixed set of values (like coordinates, configuration settings, or database records), using a tuple guarantees that this data will not be inadvertently modified.\n"
      ]
    },
    {
      "cell_type": "markdown",
      "metadata": {
        "id": "46416823"
      },
      "source": [
        "8. What is a hash table, and how does it relate to dictionaries in Python ?\n",
        "\n",
        "> A **hash table** (also known as a hash map) is a data structure that implements an associative array, mapping keys to values. It uses a **hash function** to compute an index into an array of buckets or slots, from which the desired value can be found.\n",
        "\n",
        "> Here's how it relates to dictionaries in Python:\n",
        "*   **Underlying Implementation**: Python dictionaries are implemented using hash tables.\n",
        "*   **Key-Value Mapping**: When you add a key-value pair to a dictionary, Python calculates the hash value of the key using a hash function. This hash value is then used to determine where in the underlying array the key-value pair should be stored.\n",
        "*   **Handling Collisions**: It's possible for different keys to have the same hash value (this is called a hash collision). Python's dictionary implementation uses various techniques to handle these collisions, such as open addressing or chaining, to ensure that all key-value pairs can be stored and retrieved correctly.\n",
        "*   **Mutable vs. Immutable Keys**: Because dictionaries use hashing, the keys must be hashable. Immutable data types like strings, numbers, and tuples are hashable and can be used as dictionary keys. Mutable data types like lists and dictionaries are not hashable and cannot be used as dictionary keys.\n",
        "\n",
        "```\n",
        "my_dict = {\"name\": \"Nishchay\", \"age\": 25}\n",
        "# \"name\" is hashed internally → value 25 stored at a memory bucket\n",
        "print(my_dict[\"name\"]) # Output: Nishchay\n",
        "```\n",
        "\n"
      ]
    },
    {
      "cell_type": "markdown",
      "metadata": {
        "id": "111ba8f7"
      },
      "source": [
        "9. Can lists contain different data types in Python ?\n",
        "\n",
        "> Yes, **lists in Python can contain different data types**. This is one of the key features of Python lists. We can have a list that includes integers, strings, floating-point numbers, booleans, other lists, tuples, dictionaries, and even objects from custom classes, all within the same list.\n",
        "> For example:\n",
        "```\n",
        "my_list = [10, \"Hello\", 3.14, True, [1, 2, 3]]\n",
        "print(my_list)\n"
      ]
    },
    {
      "cell_type": "markdown",
      "metadata": {
        "id": "3ce7c050"
      },
      "source": [
        "10. Explain why strings are immutable in Python.\n",
        "\n",
        "> Strings in Python are immutable, meaning that once a string object is created, its contents cannot be changed. While this might seem like a limitation, there are several reasons and benefits to this design choice:\n",
        "*   **Performance Optimization:** Python can optimize the creation and storage of strings. If multiple variables refer to the same string literal, Python can point them to the same object in memory, saving space and improving performance. This is only possible because the string's content is guaranteed not to change.\n",
        "*   **Thread Safety:** In multi-threaded environments, immutable objects are inherently thread-safe. Multiple threads can access and read a string simultaneously without the risk of one thread modifying it while another is reading, which could lead to unpredictable behavior.\n",
        "*   **Hashability:** Because strings are immutable, they are hashable. This means that a unique hash value can be computed for a string, which is essential for their use as keys in dictionaries and elements in sets. If strings were mutable, their hash value could change, making them unsuitable for these data structures.\n",
        "*   **Predictability and Reliability:** Immutability makes code more predictable and easier to reason about. When you pass a string to a function, you know that the function cannot modify the original string. This prevents unexpected side effects and makes debugging easier.\n",
        "*   **Implementation Efficiency:** Certain internal implementations in Python, such as string interning, rely on the immutability of strings for their efficiency.\n"
      ]
    },
    {
      "cell_type": "markdown",
      "metadata": {
        "id": "23a2d065"
      },
      "source": [
        "11. What advantages do dictionaries offer over lists for certain tasks ?\n",
        "\n",
        "> Dictionaries offer several advantages over lists for certain tasks, primarily due to their key-value structure and underlying hash table implementation:\n",
        "*   **Fast Lookups, Insertions, and Deletions**: Dictionaries provide very efficient (average case O(1)) time complexity for accessing, adding, or removing elements based on their keys. This is significantly faster than searching for an element by value in a list, which can take O(n) time in the worst case. If you frequently need to retrieve data based on a unique identifier, dictionaries are much more performant.\n",
        "*   **Associative Relationships**: Dictionaries allow you to associate a value with a meaningful key. This makes the data more organized and easier to understand than relying on numerical indices in a list. For example, instead of accessing data by `my_list[0]`, you can access it by `my_dict['user_id']`.\n",
        "*   **Flexible Indexing**: Dictionaries can use various immutable data types (like strings, numbers, and tuples) as keys, providing more flexible ways to access data compared to the integer-based indexing of lists.\n",
        "*   **Representing Structured Data**: Dictionaries are excellent for representing structured data where each piece of information has a specific name or label. This is common in data formats like JSON or when working with records or objects.\n",
        "*   **Counting and Frequency**: Dictionaries are useful for counting the frequency of items in a collection. You can use the items as keys and their counts as values.\n",
        "*   **Unique Keys**: Dictionary keys are unique. This property is useful when you need to store and access distinct items.\n",
        "\n",
        "```\n",
        "# List of [name, phone] pairs\n",
        "contacts_list = [[\"Alice\", \"1234\"], [\"Bob\", \"5678\"], [\"Charlie\", \"9101\"]]\n",
        "# Find Bob's number\n",
        "for name, phone in contacts_list:\n",
        "if name == \"Bob\":\n",
        "print(phone) # Output: 5678\n",
        "break\n",
        "\n",
        "# Dictionary of name: phone pairs\n",
        "contacts_dict = {\"Alice\": \"1234\", \"Bob\": \"5678\", \"Charlie\": \"9101\"}\n",
        "# Find Bob's number\n",
        "print(contacts_dict[\"Bob\"]) # Output: 5678\n",
        "\n",
        "```\n",
        "\n",
        "\n"
      ]
    },
    {
      "cell_type": "markdown",
      "metadata": {
        "id": "8e4b1d21"
      },
      "source": [
        "12. Describe a scenario where using a tuple would be preferable over a list.\n",
        "\n",
        "> A scenario where using a tuple would be preferable over a list is when you need to represent a fixed collection of related items that should not change.\n",
        "\n",
        "> **Scenario:** Representing geographical coordinates (latitude and longitude).\n",
        "\n",
        "> **Why a tuple is preferable:**\n",
        "*   **Immutability**: Coordinates are typically a fixed pair of values that shouldn't be accidentally altered. Tuples are immutable, guaranteeing that once the coordinates are set, they cannot be modified. This prevents potential errors where one part of your program might unintentionally change a coordinate value.\n",
        "*   **Data Integrity**: By using a tuple, you ensure the integrity of the coordinate pair. The latitude and longitude values are bound together and cannot be separated or individually changed within the tuple object itself.\n",
        "*   **Efficiency**: For small, fixed collections, tuples can sometimes be slightly more memory-efficient and faster to process than lists, although this difference is often negligible for most practical purposes.\n",
        "*   **Usability as Dictionary Keys**: If you needed to use a coordinate pair as a key in a dictionary (e.g., to store data associated with a specific location), you could use a tuple because tuples are hashable (due to their immutability). Lists, being mutable, cannot be used as dictionary keys.\n"
      ]
    },
    {
      "cell_type": "markdown",
      "metadata": {
        "id": "7ec03004"
      },
      "source": [
        "13. How do sets handle duplicate values in Python ?\n",
        "\n",
        "> Sets in Python inherently **do not allow duplicate values**. When you add elements to a set, if an element already exists in the set, the addition is simply ignored. The existing element remains in the set, and no new element is added.\n",
        "\n",
        "> This is a core characteristic of sets and is one of the main reasons to use them when you need a collection of unique items.\n",
        "> **Example:**\n",
        "```\n",
        "my_set = {1, 2, 2, 3, 3, 3}\n",
        "print(my_set) #Output is {1, 2, 3}\n",
        "```\n",
        "\n"
      ]
    },
    {
      "cell_type": "markdown",
      "metadata": {
        "id": "827dbb41"
      },
      "source": [
        "14. How does the “in” keyword work differently for lists and dictionaries ?\n",
        "\n",
        ">The \"in\" keyword behaves differently for lists and dictionaries in Python:\n",
        "- For lists – \"in\" checks if a value exists anywhere in the list.\n",
        "```\n",
        "numbers = [1, 2, 3, 4]\n",
        "print(3 in numbers) #(checks values)\n",
        "print(5 in numbers)\n",
        "```\n",
        "- For dictionaries – in checks if a key exists in the dictionary (not the value).\n",
        "```\n",
        "person = {\"name\": \"Alice\", \"age\": 25}\n",
        "print(\"name\" in person) # checks keys\n",
        "print(\"Alice\" in person) # does not check values\n",
        "```\n",
        "\n",
        "\n"
      ]
    },
    {
      "cell_type": "markdown",
      "metadata": {
        "id": "714b361b"
      },
      "source": [
        "15. Can you modify the elements of a tuple? Explain why or why not .\n",
        "\n",
        "> No, you **cannot modify the elements of a tuple** after it has been created. This is because tuples are **immutable** data types in Python.\n",
        "\n",
        "> **Why they are immutable:**\n",
        "> The immutability of tuples is a fundamental design choice in Python with several implications and benefits, similar to strings:\n",
        "*   **Data Integrity**: Immutability ensures that the data stored in a tuple remains constant throughout its lifetime.\n",
        "*   **Hashability**: Because tuples are immutable, they are hashable. This allows them to be used as keys in dictionaries and elements in sets, data structures that require their keys/elements to have a consistent hash value.\n",
        "*   **Predictability**: Knowing that a tuple's contents won't change makes code more predictable and easier to reason about.\n",
        "\n"
      ]
    },
    {
      "cell_type": "markdown",
      "metadata": {
        "id": "8bf2b374"
      },
      "source": [
        "16. What is a nested dictionary, and give an example of its use case ?\n",
        "\n",
        "> A **nested dictionary** is a dictionary where the values are themselves dictionaries. This allows you to create hierarchical or structured data representations. You can access data in a nested dictionary by chaining the keys.\n",
        ">Example:-\n",
        "```\n",
        "students = {\n",
        "\"Alias\": {\"age\": 20, \"marks\": {\"Math\": 90, \"Science\": 85}},\n",
        "\"John\": {\"age\": 22, \"marks\": {\"Math\": 78, \"Science\": 88}}\n",
        "}\n",
        "-> For Access John's Science marks\n",
        "print(students[\"John\"][\"marks\"][\"Science\"])\n",
        "```\n",
        "\n"
      ]
    },
    {
      "cell_type": "markdown",
      "metadata": {
        "id": "b6d1f33a"
      },
      "source": [
        "17. Describe the time complexity of accessing elements in a dictionary.\n",
        "\n",
        "> The time complexity of accessing elements in a dictionary are:-\n",
        "> - Average time O(1) : This is because dictionaries are implemented using hash tables. When you access an element using its key, Python calculates the hash value of the key and uses it to directly locate the value in memory. This process takes a nearly constant amount of time, regardless of the number of elements in the dictionary.\n",
        "> - Worst Case Scenario O(n) : In the worst-case scenario, where there are many hash collisions (different keys having the same hash value), the time complexity for accessing an element can degrade to O(n) (linear time), where n is the number of elements.\n",
        "```\n",
        "students={\"John\": {\"age\": 22, \"marks\": {\"Math\": 78, \"Science\": 88}}\n",
        "}\n",
        "print(students[John][\"marks\"][\"Maths\"]) #This is an example of O(1) Average Time\n",
        "```\n",
        "\n"
      ]
    },
    {
      "cell_type": "markdown",
      "metadata": {
        "id": "fbca63fb"
      },
      "source": [
        "18. In what situations are lists preferred over dictionaries ?\n",
        "\n",
        "> Lists are preferred over dictionaries in several situations, here are some specific scenarios:\n",
        "*   **Order Matters:** If the sequence or position of elements is significant, a list is the appropriate choice. Dictionaries are inherently unordered.\n",
        "*   **Access by Index:** When you need to access elements based on their position (e.g., the first element, the last element, or an element at a specific index), lists provide direct and efficient access using integer indices. Dictionaries do not support integer-based indexing in the same way.\n",
        "*   **Storing a Collection of Items:** If you simply need to store a collection of items without associating them with unique keys, a list is simpler and often more memory-efficient.\n",
        "*   **Allowing Duplicate Elements:** Lists can contain duplicate elements, which is necessary in situations where you need to maintain a collection that might have repeated values. Dictionaries, by definition, have unique keys.\n",
        "*   **Implementing Stacks or Queues:** Lists can be easily used to implement data structures like stacks (using `append()` and `pop()`) and queues (using `append()` and `pop(0)` or the `collections.deque` class).\n",
        "*   **Small datasets** : For small collections where the speed benefit of a dictionary is negligible.\n",
        "*    **Iteration over values** : When you want to loop through elements directly without worrying about keys"
      ]
    },
    {
      "cell_type": "markdown",
      "metadata": {
        "id": "73988cd5"
      },
      "source": [
        "19. Why are dictionaries considered unordered, and how does that affect data retrieval ?\n",
        "\n",
        "> **In Python versions prior to 3.7**, dictionaries were considered **unordered**. This meant that the order in which you inserted items into a dictionary was not guaranteed to be the order in which they were stored or retrieved.\n",
        "> The reason for this was the underlying implementation using hash tables. Hash tables store data based on the hash value of the keys. The order of elements in the underlying array is determined by the hash function and collision resolution strategy, not by the insertion order.\n",
        "\n",
        "> **How this affected data retrieval (prior to Python 3.7):**\n",
        "*   **No reliable index-based access:** You could not rely on accessing elements by a numerical index like you can with lists or tuples. The concept of a \"first\" or \"last\" element based on insertion order didn't exist in a predictable way.\n",
        "*   **Iteration order was not guaranteed:** When iterating through a dictionary (using a `for` loop), the order in which the key-value pairs were yielded was not guaranteed to be the insertion order. It could vary depending on the Python version and the specific contents of the dictionary. This meant you couldn't assume a specific sequence when processing dictionary items.\n",
        "\n",
        "> **Change in Python 3.7 and later:**\n",
        "> **Starting with Python 3.7, dictionaries are guaranteed to preserve insertion order.** This was made an official language feature after being an implementation detail in Python 3.6.\n",
        "\n",
        "> **How this affects data retrieval (Python 3.7+):**\n",
        "*   **Insertion order is preserved:** When you iterate through a dictionary or access its items, keys, or values, they will be in the same order they were originally inserted.\n",
        "*   **More predictable iteration:** This makes iterating through dictionaries much more predictable and useful for scenarios where order is important.\n",
        "\n",
        "> Despite this change in order preservation, it's still important to remember that dictionaries are primarily designed for efficient key-based access (average O(1) time complexity), not index-based access. While they maintain insertion order, accessing elements by a numerical index is not a standard or efficient operation for dictionaries."
      ]
    },
    {
      "cell_type": "markdown",
      "metadata": {
        "id": "1027f9cd"
      },
      "source": [
        "20. Explain the difference between a list and a dictionary in terms of data retrieval\n",
        "\n",
        "> The primary difference between lists and dictionaries in terms of data retrieval lies in how you access the elements:\n",
        "\n",
        ">*   **Lists: Access by Index**\n",
        "    *   Lists are ordered collections, and you retrieve elements based on their **numerical index** (their position in the sequence).\n",
        "    *   Indexes start from 0 for the first element.\n",
        "    *   Retrieval by index is generally fast, with an average time complexity of O(1) (constant time), regardless of the size of the list.\n",
        "    *   If you need to find an element by its *value* in a list, you would typically iterate through the list, which can take O(n) time in the worst case, where n is the number of elements.\n",
        "```\n",
        "fruits = [\"apple\", \"banana\", \"cherry\"]\n",
        "print(fruits[1])\n",
        "```\n",
        "\n",
        "\n",
        ">*   **Dictionaries: Access by Key**\n",
        "    *   Dictionaries are unordered collections (in older Python versions) or ordered by insertion (in Python 3.7+), and you retrieve elements based on their **unique key**.\n",
        "    *   Keys can be various immutable data types (strings, numbers, tuples).\n",
        "    *   Retrieval by key is very efficient, with an average time complexity of O(1) (constant time). This is because dictionaries use hash tables, allowing for direct access to the value based on the key's hash.\n",
        "    *   Finding a value without knowing its corresponding key in a dictionary is not a direct or efficient operation. You would typically need to iterate through the dictionary's values, which can take O(n) time.\n",
        "```\n",
        "person = {\"name\": \"Alice\", \"age\": 25}\n",
        "print(person[\"age\"])\n",
        "```\n",
        "\n",
        "\n",
        "\n",
        "---"
      ]
    },
    {
      "cell_type": "markdown",
      "source": [
        "#Practical Questions"
      ],
      "metadata": {
        "id": "m64l6BHCUe6M"
      }
    },
    {
      "cell_type": "markdown",
      "source": [
        "1. Write a code to create a string with your name and print it.\n"
      ],
      "metadata": {
        "id": "dqfHLhIsUlZE"
      }
    },
    {
      "cell_type": "code",
      "source": [
        "name=input(\"Enter the Name \")\n",
        "print(\"My name is\",name)"
      ],
      "metadata": {
        "colab": {
          "base_uri": "https://localhost:8080/"
        },
        "id": "qVFHz9dLVoNY",
        "outputId": "7e58e5cf-3a85-488f-c84c-f594cf5cfa05"
      },
      "execution_count": 7,
      "outputs": [
        {
          "output_type": "stream",
          "name": "stdout",
          "text": [
            "Enter the Name Nishchay\n",
            "My name is Nishchay\n"
          ]
        }
      ]
    },
    {
      "cell_type": "markdown",
      "source": [
        "2.  Write a code to find the length of the string \"Hello World\""
      ],
      "metadata": {
        "id": "cLz9T_oCWU7U"
      }
    },
    {
      "cell_type": "code",
      "source": [
        "length = len(\"Hello World\")\n",
        "print(length)"
      ],
      "metadata": {
        "colab": {
          "base_uri": "https://localhost:8080/"
        },
        "id": "ZAbzys3VWbO_",
        "outputId": "64e39b2f-56c7-4705-b24b-27aaccb4c3ad"
      },
      "execution_count": 8,
      "outputs": [
        {
          "output_type": "stream",
          "name": "stdout",
          "text": [
            "11\n"
          ]
        }
      ]
    },
    {
      "cell_type": "markdown",
      "source": [
        "3. Write a code to slice the first 3 characters from the string \"Python Programming\""
      ],
      "metadata": {
        "id": "sJckerEkWmY9"
      }
    },
    {
      "cell_type": "code",
      "source": [
        "a=\"Python Programming\"\n",
        "print(a[0:3])\n",
        "print(\"After Slicing-\",a[3:])"
      ],
      "metadata": {
        "colab": {
          "base_uri": "https://localhost:8080/"
        },
        "id": "IbF0CYnoWr3Q",
        "outputId": "d7cfc414-30fb-4044-e7dc-5ef49d5ef3cf"
      },
      "execution_count": 12,
      "outputs": [
        {
          "output_type": "stream",
          "name": "stdout",
          "text": [
            "Pyt\n",
            "After Slicing- hon Programming\n"
          ]
        }
      ]
    },
    {
      "cell_type": "markdown",
      "source": [
        "4. Write a code to convert the string \"hello\" to uppercase."
      ],
      "metadata": {
        "id": "vxa-hkFtW4ob"
      }
    },
    {
      "cell_type": "code",
      "source": [
        "a=\"hello\"\n",
        "print(a.upper())"
      ],
      "metadata": {
        "colab": {
          "base_uri": "https://localhost:8080/"
        },
        "id": "dVh3EafQXSHm",
        "outputId": "dfdaed0f-25ef-489c-885e-fea82958c37b"
      },
      "execution_count": 16,
      "outputs": [
        {
          "output_type": "stream",
          "name": "stdout",
          "text": [
            "HELLO\n"
          ]
        }
      ]
    },
    {
      "cell_type": "markdown",
      "source": [
        "5. Write a code to replace the word \"apple\" with \"orange\" in the string \"I like apple\""
      ],
      "metadata": {
        "id": "WSXKKjnjX5kv"
      }
    },
    {
      "cell_type": "code",
      "source": [
        "a=\"I like apple\"\n",
        "b=a.replace(\"apple\",\"orange\")\n",
        "print(\"Before replacement:\",a)\n",
        "print(\"After Replacement:\",b)"
      ],
      "metadata": {
        "colab": {
          "base_uri": "https://localhost:8080/"
        },
        "id": "XYa_9NmaX-lc",
        "outputId": "0e600b9d-886f-4661-bcb2-6da4bfda3de1"
      },
      "execution_count": 19,
      "outputs": [
        {
          "output_type": "stream",
          "name": "stdout",
          "text": [
            "Before replacement: I like apple\n",
            "After Replacement: I like orange\n"
          ]
        }
      ]
    },
    {
      "cell_type": "markdown",
      "source": [
        "6. Write a code to create a list with numbers 1 to 5 and print it\n"
      ],
      "metadata": {
        "id": "MFXLiF4HY1bV"
      }
    },
    {
      "cell_type": "code",
      "source": [
        "list=[1,2,3,4,5]\n",
        "print(list)"
      ],
      "metadata": {
        "colab": {
          "base_uri": "https://localhost:8080/"
        },
        "id": "RpKIc26uY6MP",
        "outputId": "038c0d08-5e7d-4319-d6a0-bec4aa03fc15"
      },
      "execution_count": 22,
      "outputs": [
        {
          "output_type": "stream",
          "name": "stdout",
          "text": [
            "[1, 2, 3, 4, 5]\n"
          ]
        }
      ]
    },
    {
      "cell_type": "markdown",
      "source": [
        "7. Write a code to append the number 10 to the list [1, 2, 3, 4]"
      ],
      "metadata": {
        "id": "nZd6xm3sZa4q"
      }
    },
    {
      "cell_type": "code",
      "source": [
        "a=[1,2,3,4]\n",
        "a.append(10)\n",
        "print(a)"
      ],
      "metadata": {
        "colab": {
          "base_uri": "https://localhost:8080/"
        },
        "id": "EsLlu-wMZ3Wy",
        "outputId": "91e49549-541d-4fd2-9b6c-04e4c6960206"
      },
      "execution_count": 28,
      "outputs": [
        {
          "output_type": "stream",
          "name": "stdout",
          "text": [
            "[1, 2, 3, 4, 10]\n"
          ]
        }
      ]
    },
    {
      "cell_type": "markdown",
      "source": [
        "8. Write a code to remove the number 3 from the list [1, 2, 3, 4, 5]\n"
      ],
      "metadata": {
        "id": "A-OeQ1mAah1H"
      }
    },
    {
      "cell_type": "code",
      "source": [
        "a=[1,2,3,4,5]\n",
        "a.remove(3)\n",
        "print(a)"
      ],
      "metadata": {
        "colab": {
          "base_uri": "https://localhost:8080/"
        },
        "id": "wAFcHz-5amSq",
        "outputId": "12653d48-70a3-4076-b3bf-eade5d6f587f"
      },
      "execution_count": 29,
      "outputs": [
        {
          "output_type": "stream",
          "name": "stdout",
          "text": [
            "[1, 2, 4, 5]\n"
          ]
        }
      ]
    },
    {
      "cell_type": "markdown",
      "source": [
        "9. Write a code to access the second element in the list ['a', 'b', 'c', 'd']\n"
      ],
      "metadata": {
        "id": "FnCiRn-paxOI"
      }
    },
    {
      "cell_type": "code",
      "source": [
        "a=['a','b','c','d']\n",
        "print(\"The second element in the list is\",a[1])"
      ],
      "metadata": {
        "colab": {
          "base_uri": "https://localhost:8080/"
        },
        "id": "zZfZ0JTsa1qh",
        "outputId": "3e512eb5-7fea-4a4f-8f59-372f2c9d0b9b"
      },
      "execution_count": 47,
      "outputs": [
        {
          "output_type": "stream",
          "name": "stdout",
          "text": [
            "The second element in the list is b\n"
          ]
        }
      ]
    },
    {
      "cell_type": "markdown",
      "source": [
        "10. Write a code to reverse the list [10, 20, 30, 40, 50]\n"
      ],
      "metadata": {
        "id": "pVoDUMRWbGml"
      }
    },
    {
      "cell_type": "code",
      "source": [
        "#Method 1\n",
        "a=[10,20,30,40,50]\n",
        "print(\"Reverse of list is\",a[::-1])\n",
        "#Method 2\n",
        "a.reverse()\n",
        "print(\"Reverse of list is\",a)"
      ],
      "metadata": {
        "colab": {
          "base_uri": "https://localhost:8080/"
        },
        "id": "e6kHA3PQbNcl",
        "outputId": "ace0947e-0841-49a2-9399-ec0885a49a6a"
      },
      "execution_count": 46,
      "outputs": [
        {
          "output_type": "stream",
          "name": "stdout",
          "text": [
            "Reverse of list is [50, 40, 30, 20, 10]\n",
            "Reverse of list is [50, 40, 30, 20, 10]\n"
          ]
        }
      ]
    },
    {
      "cell_type": "markdown",
      "source": [
        "11. Write a code to create a tuple with the elements 100, 200, 300 and print it\n"
      ],
      "metadata": {
        "id": "7ROCfp7mcDrE"
      }
    },
    {
      "cell_type": "code",
      "source": [
        "a=(100,200,300)\n",
        "print(\"Tuple is\",a)"
      ],
      "metadata": {
        "colab": {
          "base_uri": "https://localhost:8080/"
        },
        "id": "nW4a1ZXUcIJU",
        "outputId": "a3879842-3346-41d4-aad7-d7b0cf48c525"
      },
      "execution_count": 45,
      "outputs": [
        {
          "output_type": "stream",
          "name": "stdout",
          "text": [
            "Tuple is (100, 200, 300)\n"
          ]
        }
      ]
    },
    {
      "cell_type": "markdown",
      "source": [
        "12. Write a code to access the second-to-last element of the tuple ('red', 'green', 'blue', 'yellow')\n"
      ],
      "metadata": {
        "id": "v2gnOOZAckS5"
      }
    },
    {
      "cell_type": "code",
      "source": [
        "a=('red','green','blue','yellow')\n",
        "print(\"The last second element of tuple is\",a[-2])"
      ],
      "metadata": {
        "colab": {
          "base_uri": "https://localhost:8080/"
        },
        "id": "bETgiE23cl1l",
        "outputId": "88bbe277-2f33-4b6a-8fcd-ef178f923f0b"
      },
      "execution_count": 44,
      "outputs": [
        {
          "output_type": "stream",
          "name": "stdout",
          "text": [
            "The last second element of tuple is blue\n"
          ]
        }
      ]
    },
    {
      "cell_type": "markdown",
      "source": [
        "13. Write a code to find the minimum number in the tuple (10, 20, 5, 15)"
      ],
      "metadata": {
        "id": "vO4dBOUXdiuP"
      }
    },
    {
      "cell_type": "code",
      "source": [
        "a=(10,20,5,15)\n",
        "print(\"The minimum number is\",min(a))"
      ],
      "metadata": {
        "colab": {
          "base_uri": "https://localhost:8080/"
        },
        "id": "1OXMIS4Xdlrb",
        "outputId": "5e582a52-c41c-446c-dc2a-30787ff1ffa7"
      },
      "execution_count": 43,
      "outputs": [
        {
          "output_type": "stream",
          "name": "stdout",
          "text": [
            "The minimum number is 5\n"
          ]
        }
      ]
    },
    {
      "cell_type": "markdown",
      "source": [
        "14. Write a code to find the index of the element \"cat\" in the tuple ('dog', 'cat', 'rabbit')\n"
      ],
      "metadata": {
        "id": "7fnWekn-eVII"
      }
    },
    {
      "cell_type": "code",
      "source": [
        "a=('dog','cat','rabbit')\n",
        "print(\"The index of cat is\" ,a.index('cat'))"
      ],
      "metadata": {
        "colab": {
          "base_uri": "https://localhost:8080/"
        },
        "id": "EzacjjmreZcf",
        "outputId": "fff441fc-0abf-4a95-9707-3d0a4bb241eb"
      },
      "execution_count": 51,
      "outputs": [
        {
          "output_type": "stream",
          "name": "stdout",
          "text": [
            "The index of cat is 1\n"
          ]
        }
      ]
    },
    {
      "cell_type": "markdown",
      "source": [
        "15. Write a code to create a tuple containing three different fruits and check if \"kiwi\" is in it\n"
      ],
      "metadata": {
        "id": "BZ31BfkhgA1V"
      }
    },
    {
      "cell_type": "code",
      "source": [
        "#Method 1\n",
        "a=(\"apple\",\"banana\",\"kiwi\")\n",
        "if \"kiwi\" in a:\n",
        "  print(\"kiwi is in the tuple\")\n",
        "else:\n",
        "  print(\"kiwi is not in the tuple\")\n",
        "\n",
        "#Method 2\n",
        "a=(\"apple\",\"banana\",\"mango\")\n",
        "for i in a:\n",
        "  if i==\"kiwi\":\n",
        "    print(\"kiwi is in the tuple\")\n",
        "    break\n",
        "else:\n",
        "  print(\"kiwi is not in the tuple\")"
      ],
      "metadata": {
        "colab": {
          "base_uri": "https://localhost:8080/"
        },
        "id": "NAkKjY--gE8V",
        "outputId": "a998b822-ae93-45b5-bc23-eca322ac89f6"
      },
      "execution_count": 67,
      "outputs": [
        {
          "output_type": "stream",
          "name": "stdout",
          "text": [
            "kiwi is in the tuple\n",
            "kiwi is not in the tuple\n"
          ]
        }
      ]
    },
    {
      "cell_type": "markdown",
      "source": [
        "16. Write a code to create a set with the elements 'a', 'b', 'c' and print it"
      ],
      "metadata": {
        "id": "5-WlGoy9nCWe"
      }
    },
    {
      "cell_type": "code",
      "source": [
        "a={'a','b','c'}\n",
        "print(\"The set is\",a)"
      ],
      "metadata": {
        "colab": {
          "base_uri": "https://localhost:8080/"
        },
        "id": "bSquwo1jnD0v",
        "outputId": "306e1686-8713-4024-a7f4-1c450b2a8cea"
      },
      "execution_count": 79,
      "outputs": [
        {
          "output_type": "stream",
          "name": "stdout",
          "text": [
            "The set is {'a', 'c', 'b'}\n"
          ]
        }
      ]
    },
    {
      "cell_type": "markdown",
      "source": [
        "17. Write a code to clear all elements from the set {1, 2, 3, 4, 5}.\n"
      ],
      "metadata": {
        "id": "jaFgXutMnnzm"
      }
    },
    {
      "cell_type": "code",
      "source": [
        "a={1,2,3,4,5}\n",
        "a.clear()\n",
        "print(\"Given set is\",a)"
      ],
      "metadata": {
        "colab": {
          "base_uri": "https://localhost:8080/"
        },
        "id": "HE8b9SqSnpow",
        "outputId": "0a547ec3-620d-424c-9508-4397aed31819"
      },
      "execution_count": 82,
      "outputs": [
        {
          "output_type": "stream",
          "name": "stdout",
          "text": [
            "Given set is set()\n"
          ]
        }
      ]
    },
    {
      "cell_type": "markdown",
      "source": [
        "18. Write a code to remove the element 4 from the set {1, 2, 3, 4}.\n"
      ],
      "metadata": {
        "id": "5ziAon-DoKzK"
      }
    },
    {
      "cell_type": "code",
      "source": [
        "a={1,2,3,4}\n",
        "a.remove(4)\n",
        "print(a)"
      ],
      "metadata": {
        "colab": {
          "base_uri": "https://localhost:8080/"
        },
        "id": "3C68wRaBoPXU",
        "outputId": "502aa0a8-5fc8-4c25-fd0a-0bc10ddebb01"
      },
      "execution_count": 87,
      "outputs": [
        {
          "output_type": "stream",
          "name": "stdout",
          "text": [
            "{1, 2, 3}\n"
          ]
        }
      ]
    },
    {
      "cell_type": "markdown",
      "source": [
        "19. Write a code to find the union of two sets {1, 2, 3} and {3, 4, 5}\n"
      ],
      "metadata": {
        "id": "ucxU4goWoimT"
      }
    },
    {
      "cell_type": "code",
      "source": [
        "a={1,2,3}\n",
        "b={3,4,5}\n",
        "#Method 1\n",
        "print(a.union(b))\n",
        "#Method 2\n",
        "print(a|b)"
      ],
      "metadata": {
        "colab": {
          "base_uri": "https://localhost:8080/"
        },
        "id": "Nh9NwjWtb3ip",
        "outputId": "b9548797-25c8-48cf-d5e7-df3a7d7fe474"
      },
      "execution_count": 2,
      "outputs": [
        {
          "output_type": "stream",
          "name": "stdout",
          "text": [
            "{1, 2, 3, 4, 5}\n",
            "{1, 2, 3, 4, 5}\n"
          ]
        }
      ]
    },
    {
      "cell_type": "markdown",
      "source": [
        "20. Write a code to find the intersection of two sets {1, 2, 3} and {2, 3, 4}"
      ],
      "metadata": {
        "id": "tJhU0CbicKMz"
      }
    },
    {
      "cell_type": "code",
      "source": [
        "a={1,2,3}\n",
        "b={2,3,4}\n",
        "#Method 1\n",
        "print(a.intersection(b))\n",
        "#Method 2\n",
        "print(a&b)"
      ],
      "metadata": {
        "colab": {
          "base_uri": "https://localhost:8080/"
        },
        "id": "bUdvjwKOcrPn",
        "outputId": "57b09855-33bf-4054-d5d4-20d8ca3412ad"
      },
      "execution_count": 5,
      "outputs": [
        {
          "output_type": "stream",
          "name": "stdout",
          "text": [
            "{2, 3}\n",
            "{2, 3}\n"
          ]
        }
      ]
    },
    {
      "cell_type": "markdown",
      "source": [
        "21. Write a code to create a dictionary with the keys \"name\", \"age\", and \"city\", and print it\n"
      ],
      "metadata": {
        "id": "bwxwSkpEdBRp"
      }
    },
    {
      "cell_type": "code",
      "source": [
        "dic={\n",
        "    \"name\":\"Nishchay\",\n",
        "    \"age\":24,\n",
        "    \"city\":\"Lucknow\"\n",
        "}\n",
        "print(dic)\n"
      ],
      "metadata": {
        "colab": {
          "base_uri": "https://localhost:8080/"
        },
        "id": "cjksfVnQeVQn",
        "outputId": "1cf7501f-a1f5-47aa-8e9b-552f9b9bef33"
      },
      "execution_count": 10,
      "outputs": [
        {
          "output_type": "stream",
          "name": "stdout",
          "text": [
            "{'name': 'Nishchay', 'age': 24, 'city': 'Lucknow'}\n"
          ]
        }
      ]
    },
    {
      "cell_type": "markdown",
      "source": [
        "22. Write a code to add a new key-value pair \"country\": \"USA\" to the dictionary {'name': 'John', 'age': 25}\n"
      ],
      "metadata": {
        "id": "WAqbI5slfefk"
      }
    },
    {
      "cell_type": "code",
      "source": [
        "a={\"name\":\"John\",\"age\":25}\n",
        "print(a)\n",
        "a[\"country\"]=\"USA\"\n",
        "print(a)"
      ],
      "metadata": {
        "colab": {
          "base_uri": "https://localhost:8080/"
        },
        "id": "IWCzt-8hfjPM",
        "outputId": "84c1eda4-c626-43ed-d1a9-50f0afc43606"
      },
      "execution_count": 13,
      "outputs": [
        {
          "output_type": "stream",
          "name": "stdout",
          "text": [
            "{'name': 'John', 'age': 25}\n",
            "{'name': 'John', 'age': 25, 'country': 'USA'}\n"
          ]
        }
      ]
    },
    {
      "cell_type": "markdown",
      "source": [
        "23. Write a code to access the value associated with the key \"name\" in the dictionary {'name': 'Alice', 'age': 30}"
      ],
      "metadata": {
        "id": "lBjODXrcgfcM"
      }
    },
    {
      "cell_type": "code",
      "source": [
        "a={\"name\":\"Alice\",\"age\":30}\n",
        "print(a[\"name\"])"
      ],
      "metadata": {
        "colab": {
          "base_uri": "https://localhost:8080/"
        },
        "id": "a54lKxnfghvQ",
        "outputId": "c0e02373-4def-4e7c-e18e-fe1fef2d0b95"
      },
      "execution_count": 14,
      "outputs": [
        {
          "output_type": "stream",
          "name": "stdout",
          "text": [
            "Alice\n"
          ]
        }
      ]
    },
    {
      "cell_type": "markdown",
      "source": [
        "24. Write a code to remove the key \"age\" from the dictionary {'name': 'Bob', 'age': 22, 'city': 'New York'}\n"
      ],
      "metadata": {
        "id": "cAMMCZ-Ug2La"
      }
    },
    {
      "cell_type": "code",
      "source": [
        "a={\n",
        "    \"name\":\"Bob\",\"age\":22,\"city\":\"New York\"\n",
        "}\n",
        "a.pop(\"age\")\n",
        "print(a)\n"
      ],
      "metadata": {
        "colab": {
          "base_uri": "https://localhost:8080/"
        },
        "id": "CJYKRqb8iFHk",
        "outputId": "fb4ed96b-8038-4de3-9614-3463da4f738e"
      },
      "execution_count": 16,
      "outputs": [
        {
          "output_type": "stream",
          "name": "stdout",
          "text": [
            "{'name': 'Bob', 'city': 'New York'}\n"
          ]
        }
      ]
    },
    {
      "cell_type": "markdown",
      "source": [
        "25. Write a code to check if the key \"city\" exists in the dictionary {'name': 'Alice', 'city': 'Paris'}."
      ],
      "metadata": {
        "id": "1nlYUZFolBWz"
      }
    },
    {
      "cell_type": "code",
      "source": [
        "a={\"name\":\"Alice\",\"city\":\"Paris\"}\n",
        "if \"city\" in a: #we can also write a.keys()\n",
        "  print(\"city is in the dictionary\")\n",
        "else:\n",
        "  print(\"city is not in dictionary\")"
      ],
      "metadata": {
        "colab": {
          "base_uri": "https://localhost:8080/"
        },
        "id": "_uGOo0-2lFhM",
        "outputId": "65019d5b-c5bf-4bae-ed3e-ff36ce28cbb4"
      },
      "execution_count": 17,
      "outputs": [
        {
          "output_type": "stream",
          "name": "stdout",
          "text": [
            "city is in the dictionary\n"
          ]
        }
      ]
    },
    {
      "cell_type": "markdown",
      "source": [
        "26. Write a code to create a list, a tuple, and a dictionary, and print them all\n"
      ],
      "metadata": {
        "id": "BHQ-FgDYlnic"
      }
    },
    {
      "cell_type": "code",
      "source": [
        "list=[1,2,3,4,5]\n",
        "tuple=(1,2,3,4,5)\n",
        "dic={\n",
        "    \"name\":\"Nishchay\",\n",
        "    \"age\":24,\n",
        "    \"city\":\"Lucknow\"\n",
        "}\n",
        "print(list,\"is of class\",type(list))\n",
        "print(tuple,\"is of class\",type(tuple))\n",
        "print(dic,\"is of class\",type(dic))"
      ],
      "metadata": {
        "colab": {
          "base_uri": "https://localhost:8080/"
        },
        "id": "AoSwz7NClrtf",
        "outputId": "a0eb5817-a98e-4eaa-bc53-1a42f6161450"
      },
      "execution_count": 19,
      "outputs": [
        {
          "output_type": "stream",
          "name": "stdout",
          "text": [
            "[1, 2, 3, 4, 5] is of class <class 'list'>\n",
            "(1, 2, 3, 4, 5) is of class <class 'tuple'>\n",
            "{'name': 'Nishchay', 'age': 24, 'city': 'Lucknow'} is of class <class 'dict'>\n"
          ]
        }
      ]
    },
    {
      "cell_type": "markdown",
      "source": [
        "27. Write a code to create a list of 5 random numbers between 1 and 100, sort it in ascending order, and print the result .(replaced)"
      ],
      "metadata": {
        "id": "BrSmWZWkmkPq"
      }
    },
    {
      "cell_type": "code",
      "source": [
        "import random\n",
        "#Method 1\n",
        "list=[]\n",
        "for i in range(5):\n",
        "  list.append(random.randint(1,100))\n",
        "print(\"Before Sorting\",list)\n",
        "list.sort()\n",
        "print(\"After Sorting\",list)\n",
        "\n",
        "print()\n",
        "#Method 2\n",
        "random_numbers = random.sample(range(1, 101), 5)\n",
        "print(\"list before sorting :\",random_numbers)\n",
        "random_numbers.sort()\n",
        "print(\"list after sorting :\",random_numbers)"
      ],
      "metadata": {
        "colab": {
          "base_uri": "https://localhost:8080/"
        },
        "id": "B1hsDZk_mqYX",
        "outputId": "34913236-9345-46c5-b46e-1111b7e5636d"
      },
      "execution_count": 36,
      "outputs": [
        {
          "output_type": "stream",
          "name": "stdout",
          "text": [
            "Before Sorting [37, 46, 95, 29, 73]\n",
            "After Sorting [29, 37, 46, 73, 95]\n",
            "\n",
            "list before sorting : [98, 51, 19, 99, 2]\n",
            "list after sorting : [2, 19, 51, 98, 99]\n"
          ]
        }
      ]
    },
    {
      "cell_type": "markdown",
      "source": [
        "28. Write a code to create a list with strings and print the element at the third index\n"
      ],
      "metadata": {
        "id": "Lz57W4rFrKiH"
      }
    },
    {
      "cell_type": "code",
      "source": [
        "list=[\"apple\",\"banana\",\"mango\",\"orange\",\"papaya\"]\n",
        "print(\"The element at third index is\",list[3])"
      ],
      "metadata": {
        "colab": {
          "base_uri": "https://localhost:8080/"
        },
        "id": "zYOr6CJ3rMP6",
        "outputId": "86d4278c-98d4-4b68-9299-8df6800ebb34"
      },
      "execution_count": 41,
      "outputs": [
        {
          "output_type": "stream",
          "name": "stdout",
          "text": [
            "The element at third index is orange\n"
          ]
        }
      ]
    },
    {
      "cell_type": "markdown",
      "source": [
        "29. Write a code to combine two dictionaries into one and print the result.\n"
      ],
      "metadata": {
        "id": "bSVUROrRrivR"
      }
    },
    {
      "cell_type": "code",
      "source": [
        "dict1={\n",
        "    \"name\":\"Nishchay\",\n",
        "    \"age\":24\n",
        "}\n",
        "dict2={\n",
        "    \"city\":\"Lucknow\",\n",
        "    \"state\":\"Uttar Pradesh\"\n",
        "}\n",
        "dict1.update(dict2)\n",
        "print(dict1)\n"
      ],
      "metadata": {
        "colab": {
          "base_uri": "https://localhost:8080/"
        },
        "id": "xIlkZMyxrofR",
        "outputId": "e58f6a50-9779-42ff-eb8f-4e0c578137c7"
      },
      "execution_count": 42,
      "outputs": [
        {
          "output_type": "stream",
          "name": "stdout",
          "text": [
            "{'name': 'Nishchay', 'age': 24, 'city': 'Lucknow', 'state': 'Uttar Pradesh'}\n"
          ]
        }
      ]
    },
    {
      "cell_type": "markdown",
      "source": [
        "30. Write a code to convert a list of strings into a set.\n"
      ],
      "metadata": {
        "id": "b70IPds0sLlU"
      }
    },
    {
      "cell_type": "code",
      "source": [
        "list=[\"apple\",\"banana\",\"mango\",\"orange\",\"apple\",\"mango\",\"kiwi\",\"banana\"]\n",
        "print(\"List is\",list)\n",
        "print()\n",
        "print(\"After converting into set\",set(list))"
      ],
      "metadata": {
        "colab": {
          "base_uri": "https://localhost:8080/"
        },
        "id": "l3-hTEYSsRkA",
        "outputId": "576ab935-5cea-4f60-daa7-2ff757dfefca"
      },
      "execution_count": 46,
      "outputs": [
        {
          "output_type": "stream",
          "name": "stdout",
          "text": [
            "List is ['apple', 'banana', 'mango', 'orange', 'apple', 'mango', 'kiwi', 'banana']\n",
            "\n",
            "After converting into set {'banana', 'kiwi', 'apple', 'mango', 'orange'}\n"
          ]
        }
      ]
    }
  ]
}